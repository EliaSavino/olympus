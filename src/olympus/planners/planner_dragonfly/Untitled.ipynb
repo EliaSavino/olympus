{
 "cells": [
  {
   "cell_type": "code",
   "execution_count": 8,
   "id": "8294ae84",
   "metadata": {},
   "outputs": [],
   "source": [
    "from dragonfly.exd.cp_domain_utils import load_config, load_config_file\n",
    "from dragonfly.exd import domains\n",
    "from dragonfly.exd.experiment_caller import CPFunctionCaller, EuclideanFunctionCaller\n",
    "from dragonfly.opt import random_optimiser, cp_ga_optimiser, gp_bandit\n",
    "\n",
    "from dragonfly.exd.domains import CartesianProductDomain\n",
    "import json"
   ]
  },
  {
   "cell_type": "code",
   "execution_count": 9,
   "id": "47dde95b",
   "metadata": {},
   "outputs": [
    {
     "ename": "AttributeError",
     "evalue": "'CartesianProductDomain' object has no attribute 'bounds'",
     "output_type": "error",
     "traceback": [
      "\u001b[0;31m---------------------------------------------------------------------------\u001b[0m",
      "\u001b[0;31mAttributeError\u001b[0m                            Traceback (most recent call last)",
      "\u001b[0;32m/tmp/ipykernel_386721/3391675322.py\u001b[0m in \u001b[0;36m<module>\u001b[0;34m\u001b[0m\n\u001b[1;32m     13\u001b[0m \u001b[0;34m\u001b[0m\u001b[0m\n\u001b[1;32m     14\u001b[0m \u001b[0;32mfor\u001b[0m \u001b[0mi\u001b[0m \u001b[0;32min\u001b[0m \u001b[0mrange\u001b[0m\u001b[0;34m(\u001b[0m\u001b[0mmax_capital\u001b[0m\u001b[0;34m)\u001b[0m\u001b[0;34m:\u001b[0m\u001b[0;34m\u001b[0m\u001b[0;34m\u001b[0m\u001b[0m\n\u001b[0;32m---> 15\u001b[0;31m     \u001b[0mx\u001b[0m \u001b[0;34m=\u001b[0m \u001b[0mopt\u001b[0m\u001b[0;34m.\u001b[0m\u001b[0mask\u001b[0m\u001b[0;34m(\u001b[0m\u001b[0;34m)\u001b[0m\u001b[0;34m\u001b[0m\u001b[0;34m\u001b[0m\u001b[0m\n\u001b[0m\u001b[1;32m     16\u001b[0m     \u001b[0my\u001b[0m \u001b[0;34m=\u001b[0m \u001b[0mobjective\u001b[0m\u001b[0;34m(\u001b[0m\u001b[0mx\u001b[0m\u001b[0;34m)\u001b[0m\u001b[0;34m\u001b[0m\u001b[0;34m\u001b[0m\u001b[0m\n\u001b[1;32m     17\u001b[0m     \u001b[0mprint\u001b[0m\u001b[0;34m(\u001b[0m\u001b[0;34m\"x:\"\u001b[0m\u001b[0;34m,\u001b[0m \u001b[0mx\u001b[0m\u001b[0;34m,\u001b[0m \u001b[0;34m\", y:\"\u001b[0m\u001b[0;34m,\u001b[0m \u001b[0my\u001b[0m\u001b[0;34m)\u001b[0m\u001b[0;34m\u001b[0m\u001b[0;34m\u001b[0m\u001b[0m\n",
      "\u001b[0;32m~/Software/anaconda3/envs/olympus/lib/python3.7/site-packages/dragonfly/opt/gp_bandit.py\u001b[0m in \u001b[0;36mask\u001b[0;34m(self, n_points)\u001b[0m\n\u001b[1;32m    748\u001b[0m     \u001b[0;32mif\u001b[0m \u001b[0;32mnot\u001b[0m \u001b[0mself\u001b[0m\u001b[0;34m.\u001b[0m\u001b[0mfirst_qinfos\u001b[0m\u001b[0;34m:\u001b[0m\u001b[0;34m\u001b[0m\u001b[0;34m\u001b[0m\u001b[0m\n\u001b[1;32m    749\u001b[0m       \u001b[0mself\u001b[0m\u001b[0;34m.\u001b[0m\u001b[0m_main_loop_pre\u001b[0m\u001b[0;34m(\u001b[0m\u001b[0;34m)\u001b[0m\u001b[0;34m\u001b[0m\u001b[0;34m\u001b[0m\u001b[0m\n\u001b[0;32m--> 750\u001b[0;31m     \u001b[0;32mreturn\u001b[0m \u001b[0msuper\u001b[0m\u001b[0;34m(\u001b[0m\u001b[0mEuclideanGPBandit\u001b[0m\u001b[0;34m,\u001b[0m \u001b[0mself\u001b[0m\u001b[0;34m)\u001b[0m\u001b[0;34m.\u001b[0m\u001b[0mask\u001b[0m\u001b[0;34m(\u001b[0m\u001b[0mn_points\u001b[0m\u001b[0;34m)\u001b[0m\u001b[0;34m\u001b[0m\u001b[0;34m\u001b[0m\u001b[0m\n\u001b[0m\u001b[1;32m    751\u001b[0m \u001b[0;34m\u001b[0m\u001b[0m\n\u001b[1;32m    752\u001b[0m \u001b[0;34m\u001b[0m\u001b[0m\n",
      "\u001b[0;32m~/Software/anaconda3/envs/olympus/lib/python3.7/site-packages/dragonfly/opt/blackbox_optimiser.py\u001b[0m in \u001b[0;36mask\u001b[0;34m(self, n_points)\u001b[0m\n\u001b[1;32m    288\u001b[0m         \u001b[0;32melse\u001b[0m\u001b[0;34m:\u001b[0m\u001b[0;34m\u001b[0m\u001b[0;34m\u001b[0m\u001b[0m\n\u001b[1;32m    289\u001b[0m           \u001b[0;32mif\u001b[0m \u001b[0mself\u001b[0m\u001b[0;34m.\u001b[0m\u001b[0mdomain\u001b[0m\u001b[0;34m.\u001b[0m\u001b[0mget_type\u001b[0m\u001b[0;34m(\u001b[0m\u001b[0;34m)\u001b[0m \u001b[0;34m==\u001b[0m \u001b[0;34m'euclidean'\u001b[0m\u001b[0;34m:\u001b[0m\u001b[0;34m\u001b[0m\u001b[0;34m\u001b[0m\u001b[0m\n\u001b[0;32m--> 290\u001b[0;31m             \u001b[0;32mreturn\u001b[0m \u001b[0mself\u001b[0m\u001b[0;34m.\u001b[0m\u001b[0mfunc_caller\u001b[0m\u001b[0;34m.\u001b[0m\u001b[0mget_raw_domain_coords\u001b[0m\u001b[0;34m(\u001b[0m\u001b[0mqinfo\u001b[0m\u001b[0;34m.\u001b[0m\u001b[0mpoint\u001b[0m\u001b[0;34m)\u001b[0m\u001b[0;34m\u001b[0m\u001b[0;34m\u001b[0m\u001b[0m\n\u001b[0m\u001b[1;32m    291\u001b[0m           \u001b[0;32melse\u001b[0m\u001b[0;34m:\u001b[0m\u001b[0;34m\u001b[0m\u001b[0;34m\u001b[0m\u001b[0m\n\u001b[1;32m    292\u001b[0m             \u001b[0;32mreturn\u001b[0m \u001b[0mself\u001b[0m\u001b[0;34m.\u001b[0m\u001b[0mfunc_caller\u001b[0m\u001b[0;34m.\u001b[0m\u001b[0mget_raw_domain_point_from_processed\u001b[0m\u001b[0;34m(\u001b[0m\u001b[0mqinfo\u001b[0m\u001b[0;34m.\u001b[0m\u001b[0mpoint\u001b[0m\u001b[0;34m)\u001b[0m\u001b[0;34m\u001b[0m\u001b[0;34m\u001b[0m\u001b[0m\n",
      "\u001b[0;32m~/Software/anaconda3/envs/olympus/lib/python3.7/site-packages/dragonfly/exd/experiment_caller.py\u001b[0m in \u001b[0;36mget_raw_domain_coords\u001b[0;34m(self, X)\u001b[0m\n\u001b[1;32m    453\u001b[0m     \u001b[0;34m\"\"\" Maps points from the domain cube to the original space. \"\"\"\u001b[0m\u001b[0;34m\u001b[0m\u001b[0;34m\u001b[0m\u001b[0m\n\u001b[1;32m    454\u001b[0m     \u001b[0;32mif\u001b[0m \u001b[0mself\u001b[0m\u001b[0;34m.\u001b[0m\u001b[0mdomain_is_normalised\u001b[0m \u001b[0;32mand\u001b[0m \u001b[0mX\u001b[0m \u001b[0;32mis\u001b[0m \u001b[0;32mnot\u001b[0m \u001b[0;32mNone\u001b[0m\u001b[0;34m:\u001b[0m\u001b[0;34m\u001b[0m\u001b[0;34m\u001b[0m\u001b[0m\n\u001b[0;32m--> 455\u001b[0;31m       \u001b[0;32mreturn\u001b[0m \u001b[0mmap_to_bounds\u001b[0m\u001b[0;34m(\u001b[0m\u001b[0mX\u001b[0m\u001b[0;34m,\u001b[0m \u001b[0mself\u001b[0m\u001b[0;34m.\u001b[0m\u001b[0mraw_domain\u001b[0m\u001b[0;34m.\u001b[0m\u001b[0mbounds\u001b[0m\u001b[0;34m)\u001b[0m\u001b[0;34m\u001b[0m\u001b[0;34m\u001b[0m\u001b[0m\n\u001b[0m\u001b[1;32m    456\u001b[0m     \u001b[0;32melse\u001b[0m\u001b[0;34m:\u001b[0m\u001b[0;34m\u001b[0m\u001b[0;34m\u001b[0m\u001b[0m\n\u001b[1;32m    457\u001b[0m       \u001b[0;32mreturn\u001b[0m \u001b[0mX\u001b[0m\u001b[0;34m\u001b[0m\u001b[0;34m\u001b[0m\u001b[0m\n",
      "\u001b[0;31mAttributeError\u001b[0m: 'CartesianProductDomain' object has no attribute 'bounds'"
     ]
    }
   ],
   "source": [
    "max_capital = 100\n",
    "objective = lambda x: x[0] ** 4 - x[0]**2 + 0.1 * x[0]\n",
    "#domain = domains.EuclideanDomain([[-10, 10]])\n",
    "domain = domains.CartesianProductDomain(\n",
    "    [domains.EuclideanDomain([[-10, 10]])]\n",
    ")\n",
    "# domain_vars = [{'name': 'param_0', 'type': 'float', 'min': 0.0, 'max': 1.0}]\n",
    "# config_params = {'name': 'dummy', 'domain': domain_vars}\n",
    "# config = load_config(config_params)\n",
    "func_caller = EuclideanFunctionCaller(None, domain)\n",
    "opt = gp_bandit.EuclideanGPBandit(func_caller, ask_tell_mode=True)\n",
    "opt.initialise()\n",
    "\n",
    "for i in range(max_capital):\n",
    "    x = opt.ask()\n",
    "    y = objective(x)\n",
    "    print(\"x:\", x, \", y:\", y)\n",
    "    print('x type :', type(x))\n",
    "    opt.tell([(x, y)])"
   ]
  },
  {
   "cell_type": "code",
   "execution_count": null,
   "id": "924f82a1",
   "metadata": {},
   "outputs": [],
   "source": [
    "opt.ask()"
   ]
  },
  {
   "cell_type": "code",
   "execution_count": null,
   "id": "a407e064",
   "metadata": {},
   "outputs": [],
   "source": [
    "config = load_config_file('dragonfly_config.json')\n",
    "config"
   ]
  },
  {
   "cell_type": "code",
   "execution_count": null,
   "id": "3dbc3569",
   "metadata": {},
   "outputs": [],
   "source": [
    "config.domain"
   ]
  },
  {
   "cell_type": "code",
   "execution_count": null,
   "id": "2b698bac",
   "metadata": {},
   "outputs": [],
   "source": []
  },
  {
   "cell_type": "code",
   "execution_count": null,
   "id": "0d9eb8d1",
   "metadata": {},
   "outputs": [],
   "source": []
  },
  {
   "cell_type": "code",
   "execution_count": null,
   "id": "05a22d03",
   "metadata": {},
   "outputs": [],
   "source": []
  },
  {
   "cell_type": "code",
   "execution_count": null,
   "id": "2cd52a8f",
   "metadata": {},
   "outputs": [],
   "source": [
    "config = load_config(config_params)\n",
    "config"
   ]
  },
  {
   "cell_type": "code",
   "execution_count": null,
   "id": "90b22d7a",
   "metadata": {},
   "outputs": [],
   "source": [
    "domain = [domains.EuclideanDomain([[-10, 10]]), domains.EuclideanDomain([[-5, 5]])]\n",
    "\n",
    "func_caller = EuclideanFunctionCaller(None, domain)\n",
    "opt = gp_bandit.EuclideanGPBandit(func_caller, ask_tell_mode=True)\n",
    "opt.initialise()\n",
    "\n",
    "for i in range(max_capital):\n",
    "    x = opt.ask()\n",
    "    y = objective(x)\n",
    "    print(\"x:\", x, \", y:\", y)\n",
    "    print('x type :', type(x))\n",
    "    opt.tell([(x, y)])"
   ]
  },
  {
   "cell_type": "code",
   "execution_count": null,
   "id": "c618de57",
   "metadata": {},
   "outputs": [],
   "source": []
  }
 ],
 "metadata": {
  "kernelspec": {
   "display_name": "olympus",
   "language": "python",
   "name": "olympus"
  },
  "language_info": {
   "codemirror_mode": {
    "name": "ipython",
    "version": 3
   },
   "file_extension": ".py",
   "mimetype": "text/x-python",
   "name": "python",
   "nbconvert_exporter": "python",
   "pygments_lexer": "ipython3",
   "version": "3.7.12"
  }
 },
 "nbformat": 4,
 "nbformat_minor": 5
}
