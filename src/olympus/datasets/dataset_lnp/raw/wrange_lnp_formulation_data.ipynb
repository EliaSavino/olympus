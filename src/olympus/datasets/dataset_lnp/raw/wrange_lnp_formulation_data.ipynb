{
 "cells": [
  {
   "cell_type": "code",
   "execution_count": 4,
   "id": "7390f9e7",
   "metadata": {},
   "outputs": [],
   "source": [
    "import pickle\n",
    "import numpy as np\n",
    "import pandas as pd\n",
    "import matplotlib.pyplot as plt\n",
    "import seaborn as sns"
   ]
  },
  {
   "cell_type": "code",
   "execution_count": 5,
   "id": "7cc7feda",
   "metadata": {},
   "outputs": [
    {
     "name": "stdout",
     "output_type": "stream",
     "text": [
      "(128, 13)\n",
      "Index(['Drug', 'Drug_SMILES', 'Drug_input_(µg/well)', 'Solid_lipid',\n",
      "       'Solid_lipid_SMILES', 'Solid_lipid_input_(µg/well)', 'Liquid_lipid',\n",
      "       'Liquid_lipid_SMILES', 'Liquid_lipid_input_(µg/well)', 'Surfactant',\n",
      "       'Surfactant_input', 'Particle_diameter_(nm)', 'Drug_loading'],\n",
      "      dtype='object')\n"
     ]
    },
    {
     "data": {
      "text/html": [
       "<div>\n",
       "<style scoped>\n",
       "    .dataframe tbody tr th:only-of-type {\n",
       "        vertical-align: middle;\n",
       "    }\n",
       "\n",
       "    .dataframe tbody tr th {\n",
       "        vertical-align: top;\n",
       "    }\n",
       "\n",
       "    .dataframe thead th {\n",
       "        text-align: right;\n",
       "    }\n",
       "</style>\n",
       "<table border=\"1\" class=\"dataframe\">\n",
       "  <thead>\n",
       "    <tr style=\"text-align: right;\">\n",
       "      <th></th>\n",
       "      <th>Drug</th>\n",
       "      <th>Drug_SMILES</th>\n",
       "      <th>Drug_input_(µg/well)</th>\n",
       "      <th>Solid_lipid</th>\n",
       "      <th>Solid_lipid_SMILES</th>\n",
       "      <th>Solid_lipid_input_(µg/well)</th>\n",
       "      <th>Liquid_lipid</th>\n",
       "      <th>Liquid_lipid_SMILES</th>\n",
       "      <th>Liquid_lipid_input_(µg/well)</th>\n",
       "      <th>Surfactant</th>\n",
       "      <th>Surfactant_input</th>\n",
       "      <th>Particle_diameter_(nm)</th>\n",
       "      <th>Drug_loading</th>\n",
       "    </tr>\n",
       "  </thead>\n",
       "  <tbody>\n",
       "    <tr>\n",
       "      <th>0</th>\n",
       "      <td>CBD</td>\n",
       "      <td>CCCCCC1=CC(O)=C([C@@H]2C=C(C)CC[C@H]2C(C)=C)C(...</td>\n",
       "      <td>6</td>\n",
       "      <td>Stearic_acid</td>\n",
       "      <td>CCCCCCCCCCCCCCCCCC(=O)O</td>\n",
       "      <td>120</td>\n",
       "      <td>Transcutol</td>\n",
       "      <td>CCOCCOCCO</td>\n",
       "      <td>0</td>\n",
       "      <td>P407</td>\n",
       "      <td>0.0</td>\n",
       "      <td>822.185433</td>\n",
       "      <td>0.001985</td>\n",
       "    </tr>\n",
       "    <tr>\n",
       "      <th>1</th>\n",
       "      <td>CBD</td>\n",
       "      <td>CCCCCC1=CC(O)=C([C@@H]2C=C(C)CC[C@H]2C(C)=C)C(...</td>\n",
       "      <td>12</td>\n",
       "      <td>Stearic_acid</td>\n",
       "      <td>CCCCCCCCCCCCCCCCCC(=O)O</td>\n",
       "      <td>120</td>\n",
       "      <td>Transcutol</td>\n",
       "      <td>CCOCCOCCO</td>\n",
       "      <td>0</td>\n",
       "      <td>P407</td>\n",
       "      <td>0.0</td>\n",
       "      <td>868.725767</td>\n",
       "      <td>0.005693</td>\n",
       "    </tr>\n",
       "    <tr>\n",
       "      <th>2</th>\n",
       "      <td>CBD</td>\n",
       "      <td>CCCCCC1=CC(O)=C([C@@H]2C=C(C)CC[C@H]2C(C)=C)C(...</td>\n",
       "      <td>24</td>\n",
       "      <td>Stearic_acid</td>\n",
       "      <td>CCCCCCCCCCCCCCCCCC(=O)O</td>\n",
       "      <td>120</td>\n",
       "      <td>Transcutol</td>\n",
       "      <td>CCOCCOCCO</td>\n",
       "      <td>0</td>\n",
       "      <td>P407</td>\n",
       "      <td>0.0</td>\n",
       "      <td>1516.641667</td>\n",
       "      <td>0.012296</td>\n",
       "    </tr>\n",
       "    <tr>\n",
       "      <th>3</th>\n",
       "      <td>CBD</td>\n",
       "      <td>CCCCCC1=CC(O)=C([C@@H]2C=C(C)CC[C@H]2C(C)=C)C(...</td>\n",
       "      <td>48</td>\n",
       "      <td>Stearic_acid</td>\n",
       "      <td>CCCCCCCCCCCCCCCCCC(=O)O</td>\n",
       "      <td>120</td>\n",
       "      <td>Transcutol</td>\n",
       "      <td>CCOCCOCCO</td>\n",
       "      <td>0</td>\n",
       "      <td>P407</td>\n",
       "      <td>0.0</td>\n",
       "      <td>238.543700</td>\n",
       "      <td>0.070099</td>\n",
       "    </tr>\n",
       "    <tr>\n",
       "      <th>4</th>\n",
       "      <td>CBD</td>\n",
       "      <td>CCCCCC1=CC(O)=C([C@@H]2C=C(C)CC[C@H]2C(C)=C)C(...</td>\n",
       "      <td>6</td>\n",
       "      <td>Stearic_acid</td>\n",
       "      <td>CCCCCCCCCCCCCCCCCC(=O)O</td>\n",
       "      <td>108</td>\n",
       "      <td>Transcutol</td>\n",
       "      <td>CCOCCOCCO</td>\n",
       "      <td>12</td>\n",
       "      <td>P407</td>\n",
       "      <td>0.0</td>\n",
       "      <td>694.811900</td>\n",
       "      <td>0.001675</td>\n",
       "    </tr>\n",
       "  </tbody>\n",
       "</table>\n",
       "</div>"
      ],
      "text/plain": [
       "  Drug                                        Drug_SMILES  \\\n",
       "0  CBD  CCCCCC1=CC(O)=C([C@@H]2C=C(C)CC[C@H]2C(C)=C)C(...   \n",
       "1  CBD  CCCCCC1=CC(O)=C([C@@H]2C=C(C)CC[C@H]2C(C)=C)C(...   \n",
       "2  CBD  CCCCCC1=CC(O)=C([C@@H]2C=C(C)CC[C@H]2C(C)=C)C(...   \n",
       "3  CBD  CCCCCC1=CC(O)=C([C@@H]2C=C(C)CC[C@H]2C(C)=C)C(...   \n",
       "4  CBD  CCCCCC1=CC(O)=C([C@@H]2C=C(C)CC[C@H]2C(C)=C)C(...   \n",
       "\n",
       "   Drug_input_(µg/well)   Solid_lipid       Solid_lipid_SMILES  \\\n",
       "0                     6  Stearic_acid  CCCCCCCCCCCCCCCCCC(=O)O   \n",
       "1                    12  Stearic_acid  CCCCCCCCCCCCCCCCCC(=O)O   \n",
       "2                    24  Stearic_acid  CCCCCCCCCCCCCCCCCC(=O)O   \n",
       "3                    48  Stearic_acid  CCCCCCCCCCCCCCCCCC(=O)O   \n",
       "4                     6  Stearic_acid  CCCCCCCCCCCCCCCCCC(=O)O   \n",
       "\n",
       "   Solid_lipid_input_(µg/well) Liquid_lipid Liquid_lipid_SMILES  \\\n",
       "0                          120   Transcutol           CCOCCOCCO   \n",
       "1                          120   Transcutol           CCOCCOCCO   \n",
       "2                          120   Transcutol           CCOCCOCCO   \n",
       "3                          120   Transcutol           CCOCCOCCO   \n",
       "4                          108   Transcutol           CCOCCOCCO   \n",
       "\n",
       "   Liquid_lipid_input_(µg/well) Surfactant  Surfactant_input  \\\n",
       "0                             0       P407               0.0   \n",
       "1                             0       P407               0.0   \n",
       "2                             0       P407               0.0   \n",
       "3                             0       P407               0.0   \n",
       "4                            12       P407               0.0   \n",
       "\n",
       "   Particle_diameter_(nm)  Drug_loading  \n",
       "0              822.185433      0.001985  \n",
       "1              868.725767      0.005693  \n",
       "2             1516.641667      0.012296  \n",
       "3              238.543700      0.070099  \n",
       "4              694.811900      0.001675  "
      ]
     },
     "execution_count": 5,
     "metadata": {},
     "output_type": "execute_result"
    }
   ],
   "source": [
    "df = pd.read_excel('LNP_Automation_Dataset.xlsx', skiprows=1)\n",
    "print(df.shape)\n",
    "print(df.columns)\n",
    "df.head()"
   ]
  },
  {
   "cell_type": "code",
   "execution_count": 6,
   "id": "134b3c86",
   "metadata": {},
   "outputs": [],
   "source": [
    "#df.to_csv('lnp_formulation_raw_data.csv', index=False)"
   ]
  },
  {
   "cell_type": "code",
   "execution_count": 8,
   "id": "4ec8c084",
   "metadata": {},
   "outputs": [
    {
     "data": {
      "text/plain": [
       "array(['Stearic_acid', 'Compritol_888', 'Glyceryl_monostearate'],\n",
       "      dtype=object)"
      ]
     },
     "execution_count": 8,
     "metadata": {},
     "output_type": "execute_result"
    }
   ],
   "source": [
    "solid_lipids = df.Solid_lipid.unique()\n",
    "solid_lipids"
   ]
  },
  {
   "cell_type": "code",
   "execution_count": 10,
   "id": "42b2b26a",
   "metadata": {},
   "outputs": [],
   "source": [
    "# generate olympus dataset\n",
    "\n",
    "olymp_dict = {\n",
    "    'drug_input': df['Drug_input_(µg/well)'],\n",
    "    'solid_lipid': df['Solid_lipid'],\n",
    "    'solid_lipid_input': df['Solid_lipid_input_(µg/well)'],\n",
    "    'liquid_lipid_input': df['Liquid_lipid_input_(µg/well)'],\n",
    "    'surfractant_input': df['Surfactant_input'],\n",
    "    'particle_diameter': np.abs( df['Particle_diameter_(nm)'] - 300.),\n",
    "    'drug_loading': df['Drug_loading']\n",
    "}"
   ]
  },
  {
   "cell_type": "code",
   "execution_count": 12,
   "id": "af665910",
   "metadata": {},
   "outputs": [],
   "source": [
    "olymp_df = pd.DataFrame(olymp_dict)"
   ]
  },
  {
   "cell_type": "code",
   "execution_count": 14,
   "id": "3d5fe6b1",
   "metadata": {},
   "outputs": [],
   "source": [
    "olymp_df.to_csv('data.csv', index=False)"
   ]
  },
  {
   "cell_type": "code",
   "execution_count": null,
   "id": "49572334",
   "metadata": {},
   "outputs": [],
   "source": []
  }
 ],
 "metadata": {
  "kernelspec": {
   "display_name": "gpmol",
   "language": "python",
   "name": "gpmol"
  },
  "language_info": {
   "codemirror_mode": {
    "name": "ipython",
    "version": 3
   },
   "file_extension": ".py",
   "mimetype": "text/x-python",
   "name": "python",
   "nbconvert_exporter": "python",
   "pygments_lexer": "ipython3",
   "version": "3.8.13"
  }
 },
 "nbformat": 4,
 "nbformat_minor": 5
}
