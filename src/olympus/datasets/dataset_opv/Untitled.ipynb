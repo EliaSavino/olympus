{
 "cells": [
  {
   "cell_type": "code",
   "execution_count": 6,
   "metadata": {},
   "outputs": [],
   "source": [
    "import numpy as np\n",
    "import pandas as pd\n",
    "\n",
    "import matplotlib.pyplot as plt\n",
    "import seaborn as sns"
   ]
  },
  {
   "cell_type": "code",
   "execution_count": 2,
   "metadata": {},
   "outputs": [
    {
     "name": "stdout",
     "output_type": "stream",
     "text": [
      "(486, 10)\n",
      "Index(['D', 'B', 'A', 'smiles', 'HOMO(eV)', 'LUMO(eV)', 'IP(eV)', 'EA(eV)',\n",
      "       'excE(eV)', 'exc_osc(a.u.)'],\n",
      "      dtype='object')\n"
     ]
    },
    {
     "data": {
      "text/html": [
       "<div>\n",
       "<style scoped>\n",
       "    .dataframe tbody tr th:only-of-type {\n",
       "        vertical-align: middle;\n",
       "    }\n",
       "\n",
       "    .dataframe tbody tr th {\n",
       "        vertical-align: top;\n",
       "    }\n",
       "\n",
       "    .dataframe thead th {\n",
       "        text-align: right;\n",
       "    }\n",
       "</style>\n",
       "<table border=\"1\" class=\"dataframe\">\n",
       "  <thead>\n",
       "    <tr style=\"text-align: right;\">\n",
       "      <th></th>\n",
       "      <th>D</th>\n",
       "      <th>B</th>\n",
       "      <th>A</th>\n",
       "      <th>smiles</th>\n",
       "      <th>HOMO(eV)</th>\n",
       "      <th>LUMO(eV)</th>\n",
       "      <th>IP(eV)</th>\n",
       "      <th>EA(eV)</th>\n",
       "      <th>excE(eV)</th>\n",
       "      <th>exc_osc(a.u.)</th>\n",
       "    </tr>\n",
       "  </thead>\n",
       "  <tbody>\n",
       "    <tr>\n",
       "      <th>0</th>\n",
       "      <td>5</td>\n",
       "      <td>6</td>\n",
       "      <td>9</td>\n",
       "      <td>Fc1csc(-c2cccc(-c3nncs3)c2)c1</td>\n",
       "      <td>-8.475</td>\n",
       "      <td>-0.026</td>\n",
       "      <td>6.179</td>\n",
       "      <td>2.245</td>\n",
       "      <td>4.870</td>\n",
       "      <td>0.518</td>\n",
       "    </tr>\n",
       "    <tr>\n",
       "      <th>1</th>\n",
       "      <td>4</td>\n",
       "      <td>6</td>\n",
       "      <td>9</td>\n",
       "      <td>c1cc(-c2cccs2)cc(-c2nncs2)c1</td>\n",
       "      <td>-8.390</td>\n",
       "      <td>0.013</td>\n",
       "      <td>6.061</td>\n",
       "      <td>2.219</td>\n",
       "      <td>4.591</td>\n",
       "      <td>0.039</td>\n",
       "    </tr>\n",
       "    <tr>\n",
       "      <th>2</th>\n",
       "      <td>5</td>\n",
       "      <td>6</td>\n",
       "      <td>3</td>\n",
       "      <td>O=C(O)c1csc(-c2cccc(-c3cc(F)cs3)c2)c1</td>\n",
       "      <td>-8.379</td>\n",
       "      <td>0.244</td>\n",
       "      <td>6.148</td>\n",
       "      <td>1.920</td>\n",
       "      <td>4.864</td>\n",
       "      <td>0.506</td>\n",
       "    </tr>\n",
       "    <tr>\n",
       "      <th>3</th>\n",
       "      <td>5</td>\n",
       "      <td>6</td>\n",
       "      <td>6</td>\n",
       "      <td>CN1C(=O)c2csc(-c3cccc(-c4cc(F)cs4)c3)c2C1=O</td>\n",
       "      <td>-8.377</td>\n",
       "      <td>-0.325</td>\n",
       "      <td>6.125</td>\n",
       "      <td>2.603</td>\n",
       "      <td>4.378</td>\n",
       "      <td>0.481</td>\n",
       "    </tr>\n",
       "    <tr>\n",
       "      <th>4</th>\n",
       "      <td>5</td>\n",
       "      <td>6</td>\n",
       "      <td>1</td>\n",
       "      <td>Fc1csc(-c2cccc(-c3c(F)c(F)cc4nsnc34)c2)c1</td>\n",
       "      <td>-8.371</td>\n",
       "      <td>-0.801</td>\n",
       "      <td>6.124</td>\n",
       "      <td>2.880</td>\n",
       "      <td>4.137</td>\n",
       "      <td>0.651</td>\n",
       "    </tr>\n",
       "  </tbody>\n",
       "</table>\n",
       "</div>"
      ],
      "text/plain": [
       "   D  B  A                                       smiles  HOMO(eV)  LUMO(eV)  \\\n",
       "0  5  6  9               Fc1csc(-c2cccc(-c3nncs3)c2)c1     -8.475    -0.026   \n",
       "1  4  6  9               c1cc(-c2cccs2)cc(-c2nncs2)c1      -8.390     0.013   \n",
       "2  5  6  3        O=C(O)c1csc(-c2cccc(-c3cc(F)cs3)c2)c1    -8.379     0.244   \n",
       "3  5  6  6  CN1C(=O)c2csc(-c3cccc(-c4cc(F)cs4)c3)c2C1=O    -8.377    -0.325   \n",
       "4  5  6  1    Fc1csc(-c2cccc(-c3c(F)c(F)cc4nsnc34)c2)c1    -8.371    -0.801   \n",
       "\n",
       "   IP(eV)  EA(eV)  excE(eV)  exc_osc(a.u.)  \n",
       "0   6.179   2.245     4.870          0.518  \n",
       "1   6.061   2.219     4.591          0.039  \n",
       "2   6.148   1.920     4.864          0.506  \n",
       "3   6.125   2.603     4.378          0.481  \n",
       "4   6.124   2.880     4.137          0.651  "
      ]
     },
     "execution_count": 2,
     "metadata": {},
     "output_type": "execute_result"
    }
   ],
   "source": [
    "df = pd.read_csv('screendata.csv')\n",
    "print(df.shape)\n",
    "print(df.columns)\n",
    "df.head()"
   ]
  },
  {
   "cell_type": "code",
   "execution_count": 12,
   "metadata": {},
   "outputs": [
    {
     "name": "stdout",
     "output_type": "stream",
     "text": [
      "(486, 4)\n"
     ]
    }
   ],
   "source": [
    "new_df = []\n",
    "for ix, row in df.iterrows():\n",
    "    row = row.to_dict()\n",
    "    new_df.append({\n",
    "        'D': f'D{row[\"D\"]}',\n",
    "        'B': f'B{row[\"B\"]}',\n",
    "        'A': f'A{row[\"A\"]}',\n",
    "        'exc_osc': row['exc_osc(a.u.)']\n",
    "    })\n",
    "    \n",
    "new_df=pd.DataFrame(new_df)\n",
    "\n",
    "print(new_df.shape)\n",
    "new_df.head()\n",
    "\n",
    "\n",
    "new_df.to_csv('data.csv', index=False)"
   ]
  },
  {
   "cell_type": "code",
   "execution_count": null,
   "metadata": {},
   "outputs": [],
   "source": []
  },
  {
   "cell_type": "code",
   "execution_count": 8,
   "metadata": {},
   "outputs": [
    {
     "data": {
      "image/png": "[encoded data removed]",
      "text/plain": [
       "<Figure size 432x288 with 1 Axes>"
      ]
     },
     "metadata": {
      "needs_background": "light"
     },
     "output_type": "display_data"
    },
    {
     "data": {
      "image/png": "[encoded data removed]",
      "text/plain": [
       "<Figure size 432x288 with 1 Axes>"
      ]
     },
     "metadata": {
      "needs_background": "light"
     },
     "output_type": "display_data"
    },
    {
     "data": {
      "image/png": "[encoded data removed]",
      "text/plain": [
       "<Figure size 432x288 with 1 Axes>"
      ]
     },
     "metadata": {
      "needs_background": "light"
     },
     "output_type": "display_data"
    },
    {
     "data": {
      "image/png": "[encoded data removed]",
      "text/plain": [
       "<Figure size 432x288 with 1 Axes>"
      ]
     },
     "metadata": {
      "needs_background": "light"
     },
     "output_type": "display_data"
    },
    {
     "data": {
      "image/png": "[encoded data removed]",
      "text/plain": [
       "<Figure size 432x288 with 1 Axes>"
      ]
     },
     "metadata": {
      "needs_background": "light"
     },
     "output_type": "display_data"
    },
    {
     "data": {
      "image/png": "[encoded data removed]",
      "text/plain": [
       "<Figure size 432x288 with 1 Axes>"
      ]
     },
     "metadata": {
      "needs_background": "light"
     },
     "output_type": "display_data"
    }
   ],
   "source": [
    "prop_cols = ['HOMO(eV)', 'LUMO(eV)', 'IP(eV)', 'EA(eV)',\n",
    "       'excE(eV)', 'exc_osc(a.u.)']\n",
    "\n",
    "for col in prop_cols:\n",
    "    fig, ax = plt.subplots(1,1 )\n",
    "    sns.distplot(df[col], kde=False)"
   ]
  },
  {
   "cell_type": "code",
   "execution_count": null,
   "metadata": {},
   "outputs": [],
   "source": []
  },
  {
   "cell_type": "code",
   "execution_count": null,
   "metadata": {},
   "outputs": [],
   "source": []
  },
  {
   "cell_type": "code",
   "execution_count": null,
   "metadata": {},
   "outputs": [],
   "source": []
  }
 ],
 "metadata": {
  "kernelspec": {
   "display_name": "dyeopt",
   "language": "python",
   "name": "dyeopt"
  },
  "language_info": {
   "codemirror_mode": {
    "name": "ipython",
    "version": 3
   },
   "file_extension": ".py",
   "mimetype": "text/x-python",
   "name": "python",
   "nbconvert_exporter": "python",
   "pygments_lexer": "ipython3",
   "version": "3.7.11"
  }
 },
 "nbformat": 4,
 "nbformat_minor": 4
}
