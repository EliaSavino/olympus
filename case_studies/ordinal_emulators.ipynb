{
 "cells": [
  {
   "cell_type": "code",
   "execution_count": 16,
   "id": "c5a6ee82",
   "metadata": {},
   "outputs": [],
   "source": [
    "import pickle\n",
    "import numpy as np\n",
    "import pandas as pd\n",
    "import matplotlib.pyplot as plt\n",
    "import seaborn as sns\n",
    "\n",
    "import olympus\n",
    "from olympus import __home__\n",
    "from olympus.campaigns import Campaign, ParameterSpace\n",
    "from olympus.datasets import Dataset\n",
    "from olympus.emulators import Emulator\n",
    "from olympus.planners import Planner\n",
    "from olympus.models import BayesNeuralNet\n",
    "\n",
    "from olympus.objects import (\n",
    "    ParameterContinuous,ParameterDiscrete,ParameterOrdinal,ParameterCategorical\n",
    ")\n"
   ]
  },
  {
   "cell_type": "code",
   "execution_count": 7,
   "id": "f9026e24",
   "metadata": {},
   "outputs": [
    {
     "name": "stdout",
     "output_type": "stream",
     "text": [
      "(178, 6)\n"
     ]
    },
    {
     "data": {
      "text/html": [
       "<div>\n",
       "<style scoped>\n",
       "    .dataframe tbody tr th:only-of-type {\n",
       "        vertical-align: middle;\n",
       "    }\n",
       "\n",
       "    .dataframe tbody tr th {\n",
       "        vertical-align: top;\n",
       "    }\n",
       "\n",
       "    .dataframe thead th {\n",
       "        text-align: right;\n",
       "    }\n",
       "</style>\n",
       "<table border=\"1\" class=\"dataframe\">\n",
       "  <thead>\n",
       "    <tr style=\"text-align: right;\">\n",
       "      <th></th>\n",
       "      <th>p3ht_content</th>\n",
       "      <th>d1_content</th>\n",
       "      <th>d2_content</th>\n",
       "      <th>d6_content</th>\n",
       "      <th>d8_content</th>\n",
       "      <th>conductivity</th>\n",
       "    </tr>\n",
       "  </thead>\n",
       "  <tbody>\n",
       "    <tr>\n",
       "      <th>0</th>\n",
       "      <td>75.0</td>\n",
       "      <td>0.0</td>\n",
       "      <td>25.0</td>\n",
       "      <td>0.0</td>\n",
       "      <td>0.0</td>\n",
       "      <td>13.190</td>\n",
       "    </tr>\n",
       "    <tr>\n",
       "      <th>1</th>\n",
       "      <td>30.0</td>\n",
       "      <td>0.0</td>\n",
       "      <td>70.0</td>\n",
       "      <td>0.0</td>\n",
       "      <td>0.0</td>\n",
       "      <td>15.560</td>\n",
       "    </tr>\n",
       "    <tr>\n",
       "      <th>2</th>\n",
       "      <td>45.0</td>\n",
       "      <td>0.0</td>\n",
       "      <td>55.0</td>\n",
       "      <td>0.0</td>\n",
       "      <td>0.0</td>\n",
       "      <td>14.855</td>\n",
       "    </tr>\n",
       "    <tr>\n",
       "      <th>3</th>\n",
       "      <td>90.0</td>\n",
       "      <td>0.0</td>\n",
       "      <td>0.0</td>\n",
       "      <td>10.0</td>\n",
       "      <td>0.0</td>\n",
       "      <td>24.010</td>\n",
       "    </tr>\n",
       "    <tr>\n",
       "      <th>4</th>\n",
       "      <td>95.0</td>\n",
       "      <td>0.0</td>\n",
       "      <td>0.0</td>\n",
       "      <td>0.0</td>\n",
       "      <td>5.0</td>\n",
       "      <td>26.190</td>\n",
       "    </tr>\n",
       "  </tbody>\n",
       "</table>\n",
       "</div>"
      ],
      "text/plain": [
       "   p3ht_content  d1_content  d2_content  d6_content  d8_content  conductivity\n",
       "0          75.0         0.0        25.0         0.0         0.0        13.190\n",
       "1          30.0         0.0        70.0         0.0         0.0        15.560\n",
       "2          45.0         0.0        55.0         0.0         0.0        14.855\n",
       "3          90.0         0.0         0.0        10.0         0.0        24.010\n",
       "4          95.0         0.0         0.0         0.0         5.0        26.190"
      ]
     },
     "execution_count": 7,
     "metadata": {},
     "output_type": "execute_result"
    }
   ],
   "source": [
    "# make continuous parameter ordinal target dataset\n",
    "\n",
    "df = pd.read_csv(\n",
    "    f'{__home__}/datasets/dataset_mock_ordinal_emulator/data.csv',\n",
    "    names=['p3ht_content', 'd1_content', 'd2_content', 'd6_content', 'd8_content', 'conductivity']\n",
    ")\n",
    "print(df.shape)\n",
    "df.head()"
   ]
  },
  {
   "cell_type": "code",
   "execution_count": 8,
   "id": "2c5f764c",
   "metadata": {},
   "outputs": [
    {
     "name": "stderr",
     "output_type": "stream",
     "text": [
      "/home/riley/Software/anaconda3/envs/olympus/lib/python3.7/site-packages/seaborn/distributions.py:2619: FutureWarning: `distplot` is a deprecated function and will be removed in a future version. Please adapt your code to use either `displot` (a figure-level function with similar flexibility) or `histplot` (an axes-level function for histograms).\n",
      "  warnings.warn(msg, FutureWarning)\n"
     ]
    },
    {
     "data": {
      "text/plain": [
       "<AxesSubplot:xlabel='conductivity', ylabel='Density'>"
      ]
     },
     "execution_count": 8,
     "metadata": {},
     "output_type": "execute_result"
    },
    {
     "data": {
      "image/png": "[encoded data removed]",
      "text/plain": [
       "<Figure size 432x288 with 1 Axes>"
      ]
     },
     "metadata": {
      "needs_background": "light"
     },
     "output_type": "display_data"
    }
   ],
   "source": [
    "sns.distplot(df['conductivity'])"
   ]
  },
  {
   "cell_type": "code",
   "execution_count": 9,
   "id": "6bb8f958",
   "metadata": {},
   "outputs": [],
   "source": [
    "ordinal_conducts = []\n",
    "cont_conducts = list(df['conductivity'])\n",
    "for cont in cont_conducts:\n",
    "    if 0.<=cont<200.:\n",
    "        ordinal_conducts.append(\"not_conductive\")\n",
    "    elif 200.<cont<=600.:\n",
    "        ordinal_conducts.append(\"somewhat_conductive\")\n",
    "    else:\n",
    "        ordinal_conducts.append(\"very_conductive\")"
   ]
  },
  {
   "cell_type": "code",
   "execution_count": 11,
   "id": "32decc5c",
   "metadata": {},
   "outputs": [],
   "source": [
    "df['conductivity']=ordinal_conducts"
   ]
  },
  {
   "cell_type": "code",
   "execution_count": 12,
   "id": "23be5d74",
   "metadata": {},
   "outputs": [],
   "source": [
    "df.to_csv(f'{__home__}/datasets/dataset_mock_ordinal_emulator/data.csv', index=False)"
   ]
  },
  {
   "cell_type": "code",
   "execution_count": null,
   "id": "9489b7bc",
   "metadata": {},
   "outputs": [],
   "source": []
  },
  {
   "cell_type": "code",
   "execution_count": 17,
   "id": "9dbf973e",
   "metadata": {},
   "outputs": [
    {
     "name": "stdout",
     "output_type": "stream",
     "text": [
      "Continuous (name='p3ht_content', low=15.0, high=96.27, is_periodic=False)\n",
      "Continuous (name='d1_content', low=0.0, high=60.0, is_periodic=False)\n",
      "Continuous (name='d2_content', low=0.0, high=70.0, is_periodic=False)\n",
      "Continuous (name='d6_content', low=0.0, high=85.0, is_periodic=False)\n",
      "Continuous (name='d8_content', low=0.0, high=75.0, is_periodic=False)\n",
      "Ordinal (name='conductivity', num_opts: 3, options=['not_conductive', 'somewhat_conductive', 'very_conductive'], order=[0 1 2])\n"
     ]
    }
   ],
   "source": [
    "dataset = Dataset(kind='mock_ordinal_emulator')\n",
    "print(dataset.param_space)\n",
    "print(dataset.value_space)"
   ]
  },
  {
   "cell_type": "code",
   "execution_count": null,
   "id": "27a52030",
   "metadata": {},
   "outputs": [],
   "source": [
    "# build new emulator\n",
    "\n",
    "model = BayesNeuralNet()"
   ]
  },
  {
   "cell_type": "code",
   "execution_count": null,
   "id": "f83504bc",
   "metadata": {},
   "outputs": [],
   "source": []
  }
 ],
 "metadata": {
  "kernelspec": {
   "display_name": "olympus",
   "language": "python",
   "name": "olympus"
  },
  "language_info": {
   "codemirror_mode": {
    "name": "ipython",
    "version": 3
   },
   "file_extension": ".py",
   "mimetype": "text/x-python",
   "name": "python",
   "nbconvert_exporter": "python",
   "pygments_lexer": "ipython3",
   "version": "3.7.12"
  }
 },
 "nbformat": 4,
 "nbformat_minor": 5
}
