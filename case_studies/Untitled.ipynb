{
 "cells": [
  {
   "cell_type": "code",
   "execution_count": 5,
   "id": "98a58905",
   "metadata": {},
   "outputs": [],
   "source": [
    "import numpy as np \n",
    "import pandas as pd\n",
    "import olympus\n",
    "from olympus.scalarizers import Scalarizer\n",
    "from olympus.campaigns import ParameterSpace\n",
    "from olympus.objects import ParameterContinuous"
   ]
  },
  {
   "cell_type": "code",
   "execution_count": 7,
   "id": "36bbfa84",
   "metadata": {},
   "outputs": [],
   "source": [
    "value_space = ParameterSpace()\n",
    "\n",
    "obj0 = ParameterContinuous(name='sas')\n",
    "value_space.add(obj0)\n",
    "\n",
    "obj1 = ParameterContinuous(name='redox')\n",
    "value_space.add(obj1)\n",
    "\n",
    "obj2 = ParameterContinuous(name='rss')\n",
    "value_space.add(obj2)"
   ]
  },
  {
   "cell_type": "code",
   "execution_count": 9,
   "id": "2b088881",
   "metadata": {},
   "outputs": [
    {
     "name": "stdout",
     "output_type": "stream",
     "text": [
      "Continuous (name='sas', low=0.0, high=1.0, is_periodic=False)\n",
      "Continuous (name='redox', low=0.0, high=1.0, is_periodic=False)\n",
      "Continuous (name='rss', low=0.0, high=1.0, is_periodic=False)\n"
     ]
    }
   ],
   "source": [
    "print(value_space)"
   ]
  },
  {
   "cell_type": "code",
   "execution_count": 10,
   "id": "3350a945",
   "metadata": {},
   "outputs": [],
   "source": [
    "scalarizer = Scalarizer(\n",
    "        kind='Chimera', \n",
    "        value_space=value_space,\n",
    "        goals=['min', 'min', 'max'],\n",
    "        tolerances=[6, -1, 85],\n",
    "        absolutes=[True, True, True]\n",
    "    )"
   ]
  },
  {
   "cell_type": "code",
   "execution_count": 11,
   "id": "14e21428",
   "metadata": {},
   "outputs": [],
   "source": [
    "obj = np.array([[6.5, -2, 80.], [7, -5, 60.]]) # (N, d)"
   ]
  },
  {
   "cell_type": "code",
   "execution_count": 12,
   "id": "fe48776e",
   "metadata": {},
   "outputs": [],
   "source": [
    "scal = scalarizer.scalarize(obj)"
   ]
  },
  {
   "cell_type": "code",
   "execution_count": 13,
   "id": "cf8df2f0",
   "metadata": {},
   "outputs": [
    {
     "data": {
      "text/plain": [
       "array([0., 1.])"
      ]
     },
     "execution_count": 13,
     "metadata": {},
     "output_type": "execute_result"
    }
   ],
   "source": [
    "scal  # (N, 1)"
   ]
  },
  {
   "cell_type": "code",
   "execution_count": 14,
   "id": "ac1be0fc",
   "metadata": {},
   "outputs": [],
   "source": [
    "obj = np.array([[6.5, -2, 80.], [7, -5, 60.], [2, -10, 90]]) # (N, d)"
   ]
  },
  {
   "cell_type": "code",
   "execution_count": 15,
   "id": "f39707ad",
   "metadata": {},
   "outputs": [],
   "source": [
    "scal = scalarizer.scalarize(obj)"
   ]
  },
  {
   "cell_type": "code",
   "execution_count": 17,
   "id": "7f4d9ebf",
   "metadata": {},
   "outputs": [
    {
     "data": {
      "text/plain": [
       "array([-0.5, -1. , -0. ])"
      ]
     },
     "execution_count": 17,
     "metadata": {},
     "output_type": "execute_result"
    }
   ],
   "source": [
    "-scal"
   ]
  },
  {
   "cell_type": "code",
   "execution_count": null,
   "id": "07775562",
   "metadata": {},
   "outputs": [],
   "source": []
  }
 ],
 "metadata": {
  "kernelspec": {
   "display_name": "olympus",
   "language": "python",
   "name": "olympus"
  },
  "language_info": {
   "codemirror_mode": {
    "name": "ipython",
    "version": 3
   },
   "file_extension": ".py",
   "mimetype": "text/x-python",
   "name": "python",
   "nbconvert_exporter": "python",
   "pygments_lexer": "ipython3",
   "version": "3.7.12"
  }
 },
 "nbformat": 4,
 "nbformat_minor": 5
}
