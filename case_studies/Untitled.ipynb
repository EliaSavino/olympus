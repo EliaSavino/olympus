{
 "cells": [
  {
   "cell_type": "code",
   "execution_count": 1,
   "id": "58dd7656",
   "metadata": {},
   "outputs": [],
   "source": [
    "from olympus.surfaces import Surface"
   ]
  },
  {
   "cell_type": "code",
   "execution_count": 6,
   "id": "b0199c8a",
   "metadata": {},
   "outputs": [],
   "source": [
    "surf = Surface(kind='CatDejong', param_dim=4, num_opts=21)"
   ]
  },
  {
   "cell_type": "code",
   "execution_count": 7,
   "id": "366d9d70",
   "metadata": {},
   "outputs": [],
   "source": [
    "param = ['x0', 'x0','x0', 'x0']"
   ]
  },
  {
   "cell_type": "code",
   "execution_count": 8,
   "id": "36424619",
   "metadata": {},
   "outputs": [
    {
     "data": {
      "text/plain": [
       "[[104.8576]]"
      ]
     },
     "execution_count": 8,
     "metadata": {},
     "output_type": "execute_result"
    }
   ],
   "source": [
    "surf.run(param)"
   ]
  },
  {
   "cell_type": "code",
   "execution_count": 9,
   "id": "fa2b5675",
   "metadata": {},
   "outputs": [],
   "source": [
    "from olympus.noises import Noise"
   ]
  },
  {
   "cell_type": "code",
   "execution_count": null,
   "id": "ddb94afd",
   "metadata": {},
   "outputs": [],
   "source": []
  }
 ],
 "metadata": {
  "kernelspec": {
   "display_name": "olympus",
   "language": "python",
   "name": "olympus"
  },
  "language_info": {
   "codemirror_mode": {
    "name": "ipython",
    "version": 3
   },
   "file_extension": ".py",
   "mimetype": "text/x-python",
   "name": "python",
   "nbconvert_exporter": "python",
   "pygments_lexer": "ipython3",
   "version": "3.7.12"
  }
 },
 "nbformat": 4,
 "nbformat_minor": 5
}
