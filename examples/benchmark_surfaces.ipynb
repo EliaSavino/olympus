{
 "cells": [
  {
   "cell_type": "code",
   "execution_count": 24,
   "metadata": {},
   "outputs": [
    {
     "name": "stdout",
     "output_type": "stream",
     "text": [
      "The autoreload extension is already loaded. To reload it, use:\n",
      "  %reload_ext autoreload\n"
     ]
    }
   ],
   "source": [
    "%load_ext autoreload\n",
    "%autoreload 2"
   ]
  },
  {
   "cell_type": "code",
   "execution_count": 25,
   "metadata": {},
   "outputs": [],
   "source": [
    "import olympus\n",
    "from olympus import Olympus\n",
    "from olympus import Campaign\n",
    "from olympus.surfaces import list_surfaces, list_cont_surfaces, list_cat_surfaces"
   ]
  },
  {
   "cell_type": "code",
   "execution_count": 26,
   "metadata": {},
   "outputs": [],
   "source": [
    "# create olympus\n",
    "olymp = Olympus()"
   ]
  },
  {
   "cell_type": "code",
   "execution_count": 27,
   "metadata": {},
   "outputs": [],
   "source": [
    "# run olymus for analytic surfaces\n",
    "# CONTINUOUS SURFACES\n",
    "olymp.run_analytic(\n",
    "    planner='RandomSearch', \n",
    "    surface='Dejong',\n",
    "    param_dim=2,\n",
    "    goal='minimize',\n",
    "    campaign=Campaign(),\n",
    "    num_iter=3,\n",
    ")"
   ]
  },
  {
   "cell_type": "code",
   "execution_count": null,
   "metadata": {},
   "outputs": [],
   "source": []
  },
  {
   "cell_type": "code",
   "execution_count": 30,
   "metadata": {},
   "outputs": [],
   "source": [
    "\n",
    "#CATEGORICAL SURFACE (SHOULD WORK)\n",
    "olymp.run_analytic(\n",
    "    planner='RandomSearch', \n",
    "    surface='CatDejong',\n",
    "    param_dim=2,\n",
    "    num_opts=21,\n",
    "    goal='minimize',\n",
    "    campaign=Campaign(),\n",
    "    num_iter=3,\n",
    ")"
   ]
  },
  {
   "cell_type": "code",
   "execution_count": 31,
   "metadata": {},
   "outputs": [
    {
     "name": "stderr",
     "output_type": "stream",
     "text": [
      "\u001b[0;31m[FATAL] Planner Lbfgs does not support categorical parameters\n",
      "\u001b[0m"
     ]
    },
    {
     "ename": "SystemExit",
     "evalue": "",
     "output_type": "error",
     "traceback": [
      "An exception has occurred, use %tb to see the full traceback.\n",
      "\u001b[0;31mSystemExit\u001b[0m\n"
     ]
    },
    {
     "name": "stderr",
     "output_type": "stream",
     "text": [
      "/home/riley/Software/anaconda3/envs/olympus/lib/python3.7/site-packages/IPython/core/interactiveshell.py:3425: UserWarning: To exit: use 'exit', 'quit', or Ctrl-D.\n",
      "  warn(\"To exit: use 'exit', 'quit', or Ctrl-D.\", stacklevel=1)\n"
     ]
    }
   ],
   "source": [
    "\n",
    "#CATEGORICAL SURFACE (SHOULDNT WORK)\n",
    "olymp.run_analytic(\n",
    "    planner='Lbfgs', \n",
    "    surface='CatDejong',\n",
    "    param_dim=2,\n",
    "    num_opts=21,\n",
    "    goal='minimize',\n",
    "    campaign=Campaign(),\n",
    "    num_iter=3,\n",
    ")"
   ]
  },
  {
   "cell_type": "code",
   "execution_count": 29,
   "metadata": {},
   "outputs": [
    {
     "data": {
      "text/plain": [
       "['AckleyPath',\n",
       " 'Branin',\n",
       " 'CatAckley',\n",
       " 'CatCamel',\n",
       " 'CatDejong',\n",
       " 'CatMichalewicz',\n",
       " 'CatSlope',\n",
       " 'Dejong',\n",
       " 'Denali',\n",
       " 'DiscreteAckley',\n",
       " 'DiscreteDoubleWell',\n",
       " 'DiscreteMichalewicz',\n",
       " 'Everest',\n",
       " 'GaussianMixture',\n",
       " 'HyperEllipsoid',\n",
       " 'K2',\n",
       " 'Kilimanjaro',\n",
       " 'Levy',\n",
       " 'LinearFunnel',\n",
       " 'Matterhorn',\n",
       " 'Michalewicz',\n",
       " 'MontBlanc',\n",
       " 'NarrowFunnel',\n",
       " 'Rastrigin',\n",
       " 'Rosenbrock',\n",
       " 'Schwefel',\n",
       " 'StyblinskiTang',\n",
       " 'Zakharov']"
      ]
     },
     "execution_count": 29,
     "metadata": {},
     "output_type": "execute_result"
    }
   ],
   "source": [
    "list_surfaces()"
   ]
  },
  {
   "cell_type": "code",
   "execution_count": 14,
   "metadata": {},
   "outputs": [
    {
     "data": {
      "text/plain": [
       "['CatAckley', 'CatCamel', 'CatDejong', 'CatMichalewicz', 'CatSlope']"
      ]
     },
     "execution_count": 14,
     "metadata": {},
     "output_type": "execute_result"
    }
   ],
   "source": [
    "list_cat_surfaces()"
   ]
  },
  {
   "cell_type": "code",
   "execution_count": 15,
   "metadata": {},
   "outputs": [
    {
     "data": {
      "text/plain": [
       "['AckleyPath',\n",
       " 'Branin',\n",
       " 'Dejong',\n",
       " 'Denali',\n",
       " 'DiscreteAckley',\n",
       " 'DiscreteDoubleWell',\n",
       " 'DiscreteMichalewicz',\n",
       " 'Everest',\n",
       " 'GaussianMixture',\n",
       " 'HyperEllipsoid',\n",
       " 'K2',\n",
       " 'Kilimanjaro',\n",
       " 'Levy',\n",
       " 'LinearFunnel',\n",
       " 'Matterhorn',\n",
       " 'Michalewicz',\n",
       " 'MontBlanc',\n",
       " 'NarrowFunnel',\n",
       " 'Rastrigin',\n",
       " 'Rosenbrock',\n",
       " 'Schwefel',\n",
       " 'StyblinskiTang',\n",
       " 'Zakharov']"
      ]
     },
     "execution_count": 15,
     "metadata": {},
     "output_type": "execute_result"
    }
   ],
   "source": [
    "list_cont_surfaces()"
   ]
  },
  {
   "cell_type": "code",
   "execution_count": null,
   "metadata": {},
   "outputs": [],
   "source": []
  }
 ],
 "metadata": {
  "kernelspec": {
   "display_name": "olympus",
   "language": "python",
   "name": "olympus"
  },
  "language_info": {
   "codemirror_mode": {
    "name": "ipython",
    "version": 3
   },
   "file_extension": ".py",
   "mimetype": "text/x-python",
   "name": "python",
   "nbconvert_exporter": "python",
   "pygments_lexer": "ipython3",
   "version": "3.7.7"
  }
 },
 "nbformat": 4,
 "nbformat_minor": 4
}
